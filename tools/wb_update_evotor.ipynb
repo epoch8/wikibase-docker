{
 "cells": [
  {
   "cell_type": "markdown",
   "metadata": {},
   "source": [
    "# Эвотор\n",
    "## Настройки"
   ]
  },
  {
   "cell_type": "code",
   "execution_count": null,
   "metadata": {
    "scrolled": true
   },
   "outputs": [],
   "source": [
    "from wb_tools import *\n",
    "\n",
    "logging.getLogger().setLevel(logging.INFO)"
   ]
  },
  {
   "cell_type": "markdown",
   "metadata": {},
   "source": [
    "## Обновление\n",
    "### Исходник из базы"
   ]
  },
  {
   "cell_type": "code",
   "execution_count": null,
   "metadata": {},
   "outputs": [],
   "source": [
    "# Выгрузка схемы базы из Эвотора\n",
    "'''\n",
    "select col.column_id, \n",
    "       col.owner as schema_name,\n",
    "       col.table_name, \n",
    "       col.column_name, \n",
    "       col.data_type, \n",
    "       col.data_length, \n",
    "       col.data_precision, \n",
    "       col.data_scale, \n",
    "       col.nullable\n",
    "from sys.all_tab_columns col\n",
    "inner join sys.all_tables t on col.owner = t.owner \n",
    "                              and col.table_name = t.table_name\n",
    "-- excluding some Oracle maintained schemas\n",
    "where col.owner not in ('ANONYMOUS','CTXSYS','DBSNMP','EXFSYS', 'LBACSYS', \n",
    "   'MDSYS', 'MGMT_VIEW','OLAPSYS','OWBSYS','ORDPLUGINS', 'ORDSYS','OUTLN', \n",
    "   'SI_INFORMTN_SCHEMA','SYS','SYSMAN','SYSTEM','TSMSYS','WK_TEST','WKSYS', \n",
    "   'WKPROXY','WMSYS','XDB','APEX_040000', 'APEX_PUBLIC_USER','DIP', \n",
    "   'FLOWS_30000','FLOWS_FILES','MDDATA', 'ORACLE_OCM', 'XS$NULL',\n",
    "   'SPATIAL_CSW_ADMIN_USR', 'SPATIAL_WFS_ADMIN_USR', 'PUBLIC')  \n",
    "order by col.owner, col.table_name, col.column_id;\n",
    "'''\n",
    "\n",
    "df_e = pd.read_csv('./evotor_schemas.csv')\n",
    "\n",
    "\n",
    "# Возьмём самые ходовые схемы для тестов \n",
    "schema_list = [\n",
    "    'AIRFLOW', \n",
    "    'BIGDATA_LOADER', \n",
    "    'EVOTOR_ANALYTICS', \n",
    "    'EVOTOR_BIGDATA', \n",
    "    'EVOTOR_MARKET_REPL',\n",
    "    'EVOTOR_REPORTS',\n",
    "    'EVOTOR_CRM'\n",
    "]\n",
    "\n",
    "df_input = pd.read_csv('./evotor_schemas.csv')\n",
    "df_input = df_input[df_input.SCHEMA.isin(schema_list)]\n",
    "\n",
    "# Логин\n",
    "login_instance = wbi_login.Login(user=WIKIBASE_LOGIN, pwd=WIKIBASE_PASSWORD)   "
   ]
  },
  {
   "cell_type": "markdown",
   "metadata": {},
   "source": [
    "### Справочник параметров"
   ]
  },
  {
   "cell_type": "code",
   "execution_count": null,
   "metadata": {},
   "outputs": [],
   "source": [
    "PROPERTY_DICT = {\n",
    "    'GLOBAL': {\n",
    "        'global_statements_items': gen_prop_dict(['located_in', 'instance of', 'in_company']),\n",
    "        'global_references': gen_prop_dict(['Source']),\n",
    "        'global_company': get_items_by_label(['Evotor Company'], item_type = 'Q').at[0, 'item']\n",
    "    },\n",
    "    \n",
    "    # Каким параметром P будет являться этот объект у родителя?\n",
    "#     'P': get_items_by_label(['COMPANY'], item_type = 'P').at[0, 'item'],\n",
    "    # Квалифаеры параметра Р у родительского объекта\n",
    "    'core_qualifiers': {},\n",
    "    'custom_qualifiers': {},\n",
    "    'statements': gen_prop_dict(['DESCRIPTION']),\n",
    "    'instance_of': get_items_by_label(['Evotor Company'], item_type = 'Q').at[0, 'item'],\n",
    "    'DATABASE': {\n",
    "        'P': get_items_by_label(['DATABASE'], item_type = 'P').at[0, 'item'],\n",
    "        'core_qualifiers': {},\n",
    "        'custom_qualifiers': {},\n",
    "        'statements': gen_prop_dict(['DESCRIPTION']),\n",
    "        'instance_of': get_items_by_label(['Database'], item_type = 'Q').at[0, 'item'],\n",
    "        'SCHEMA': {\n",
    "            'P': get_items_by_label(['SCHEMA'], item_type = 'P').at[0, 'item'],\n",
    "            'core_qualifiers': {},\n",
    "            'custom_qualifiers': {},\n",
    "            'statements': gen_prop_dict(['DESCRIPTION']),\n",
    "            'instance_of': get_items_by_label(['Schema'], item_type = 'Q').at[0, 'item'],\n",
    "            'TABLE': {\n",
    "                'P': get_items_by_label(['TABLE'], item_type = 'P').at[0, 'item'],\n",
    "                'core_qualifiers': {},\n",
    "                'custom_qualifiers': {},\n",
    "                'statements': gen_prop_dict(['DESCRIPTION']),\n",
    "                'instance_of': get_items_by_label(['Table'], item_type = 'Q').at[0, 'item'],\n",
    "                'COLUMN': {\n",
    "                    'P': get_items_by_label(['COLUMN'], item_type = 'P').at[0, 'item'],\n",
    "                    'core_qualifiers': {},\n",
    "                    'custom_qualifiers': {},\n",
    "                    'statements': gen_prop_dict(['DATA_TYPE', 'DATA_LENGTH', 'DESCRIPTION']),\n",
    "                    'instance_of': get_items_by_label(['Column'], item_type = 'Q').at[0, 'item']\n",
    "                }   \n",
    "            }   \n",
    "        }        \n",
    "    }\n",
    "}"
   ]
  },
  {
   "cell_type": "markdown",
   "metadata": {},
   "source": [
    "### Взаимодействие с Wikibase"
   ]
  },
  {
   "cell_type": "markdown",
   "metadata": {},
   "source": [
    "#### Создать компанию"
   ]
  },
  {
   "cell_type": "code",
   "execution_count": null,
   "metadata": {
    "scrolled": true
   },
   "outputs": [],
   "source": [
    "wcmp = WikiCompany('Evotor Company', PROPERTY_DICT, login_instance, 'Evotor Company')\n",
    "wcmp.push_to_wiki()"
   ]
  },
  {
   "cell_type": "markdown",
   "metadata": {},
   "source": [
    "#### Создать базы"
   ]
  },
  {
   "cell_type": "code",
   "execution_count": null,
   "metadata": {},
   "outputs": [],
   "source": [
    "wd = WikiDatabase('dwh', PROPERTY_DICT, login_instance, 'Evotor Company')\n",
    "wd.push_to_wiki()"
   ]
  },
  {
   "cell_type": "markdown",
   "metadata": {},
   "source": [
    "#### Создать схемы"
   ]
  },
  {
   "cell_type": "code",
   "execution_count": null,
   "metadata": {},
   "outputs": [],
   "source": [
    "df_input_s = df_input[['SCHEMA']].drop_duplicates()\n",
    "df_input_s['DATABASE'] = 'dwh'\n",
    "df_input_s['SCHEMA_LABEL'] = df_input_s['DATABASE'] + '.' + df_input_s['SCHEMA']"
   ]
  },
  {
   "cell_type": "code",
   "execution_count": null,
   "metadata": {},
   "outputs": [],
   "source": [
    "for database_i in ['dwh']:\n",
    "    for schema_i in df_input['SCHEMA'].unique():\n",
    "        label_i = '.'.join([database_i, schema_i])\n",
    "\n",
    "        ws = WikiSchema(label_i, PROPERTY_DICT, login_instance)\n",
    "        ws.push_to_wiki()\n",
    "        \n",
    "    wd = WikiDatabase('dwh', PROPERTY_DICT, login_instance, 'Evotor Company')\n",
    "    wd.push_to_wiki()"
   ]
  },
  {
   "cell_type": "markdown",
   "metadata": {},
   "source": [
    "#### Создать таблицы"
   ]
  },
  {
   "cell_type": "code",
   "execution_count": null,
   "metadata": {
    "scrolled": true
   },
   "outputs": [],
   "source": [
    "for database_i in ['dwh']:\n",
    "    for schema_i in df_input['SCHEMA'].unique():\n",
    "        schema_label_i = '.'.join([database_i, schema_i])\n",
    "        for table_i in df_input[df_input.SCHEMA == schema_i]['TABLE'].unique():\n",
    "            table_label_i = '.'.join([database_i, schema_i, table_i])\n",
    "            wt = WikiTable(table_label_i, PROPERTY_DICT, login_instance)\n",
    "            wt.push_to_wiki()\n",
    "            \n",
    "        ws = WikiSchema(schema_label_i, PROPERTY_DICT, login_instance)\n",
    "        ws.push_to_wiki()"
   ]
  },
  {
   "cell_type": "markdown",
   "metadata": {},
   "source": [
    "#### Создать колонки"
   ]
  },
  {
   "cell_type": "code",
   "execution_count": null,
   "metadata": {
    "scrolled": true
   },
   "outputs": [],
   "source": [
    "for database_i in ['dwh']:\n",
    "    for schema_i in ['BIGDATA_LOADER']: #df_input['SCHEMA'].unique():\n",
    "        for table_i in df_input[df_input.SCHEMA == schema_i]['TABLE'].unique():\n",
    "            table_label_i = '.'.join([database_i, schema_i, table_i])\n",
    "            \n",
    "            for column_i in df_input[(df_input.SCHEMA == schema_i) & (df_input.TABLE == table_i)]['COLUMN'].unique():\n",
    "                column_label_i = '.'.join([database_i, schema_i, table_i, column_i])\n",
    "                \n",
    "                df_i = df_input[(df_input.SCHEMA == schema_i) & (df_input.TABLE == table_i) & (df_input.COLUMN == column_i)].reset_index()\n",
    "                df_input_i = pd.DataFrame({\n",
    "                    'STATEMENT_LABEL': ['DATA_TYPE', 'DATA_LENGTH'], \n",
    "                    'STATEMENT_VALUE': [df_i.at[0, 'DATA_TYPE'], df_i.at[0, 'DATA_LENGTH']],\n",
    "                    'STATEMENT_TYPE': 'string'                    \n",
    "                })\n",
    "                                         \n",
    "                wc = WikiColumn(column_label_i, PROPERTY_DICT, login_instance, df_input_i)\n",
    "                wc.push_to_wiki()\n",
    "            wt = WikiTable(table_label_i, PROPERTY_DICT, login_instance)\n",
    "            wt.push_to_wiki()"
   ]
  }
 ],
 "metadata": {
  "kernelspec": {
   "display_name": "Python 3",
   "language": "python",
   "name": "python3"
  },
  "language_info": {
   "codemirror_mode": {
    "name": "ipython",
    "version": 3
   },
   "file_extension": ".py",
   "mimetype": "text/x-python",
   "name": "python",
   "nbconvert_exporter": "python",
   "pygments_lexer": "ipython3",
   "version": "3.6.9"
  }
 },
 "nbformat": 4,
 "nbformat_minor": 2
}
